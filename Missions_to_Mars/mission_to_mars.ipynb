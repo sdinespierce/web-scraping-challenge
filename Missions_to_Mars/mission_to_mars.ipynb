{
 "cells": [
  {
   "cell_type": "code",
   "execution_count": 5,
   "source": [
    "from splinter import Browser\r\n",
    "from bs4 import BeautifulSoup as bs\r\n",
    "import time\r\n",
    "from webdriver_manager.chrome import ChromeDriverManager\r\n",
    "import pandas as pd\r\n",
    "\r\n"
   ],
   "outputs": [],
   "metadata": {}
  },
  {
   "cell_type": "code",
   "execution_count": 2,
   "source": [
    "## MARS NEWS\r\n",
    "\r\n",
    "# Set up Splinter\r\n",
    "executable_path = {'executable_path': ChromeDriverManager().install()}\r\n",
    "browser = Browser('chrome', **executable_path, headless=False)\r\n",
    "\r\n",
    "# Visit the site\r\n",
    "url = \"https://redplanetscience.com/\"\r\n",
    "browser.visit(url)\r\n",
    "\r\n",
    "time.sleep(1)\r\n",
    "\r\n",
    "# Scrape page into Soup\r\n",
    "html = browser.html\r\n",
    "soup = bs(html, \"html.parser\")\r\n",
    "\r\n",
    "# find title and blurb\r\n",
    "news_title  = soup.find('div', class_='content_title').get_text()\r\n",
    "news_p = soup.find('div', class_='article_teaser_body').get_text()\r\n",
    "\r\n",
    "print(news_title)\r\n",
    "print(news_p)\r\n",
    "\r\n",
    "\r\n",
    "# Quite the browser after scraping\r\n",
    "browser.quit()\r\n"
   ],
   "outputs": [
    {
     "output_type": "stream",
     "name": "stderr",
     "text": [
      "\n",
      "\n",
      "====== WebDriver manager ======\n",
      "Current google-chrome version is 92.0.4515\n",
      "Get LATEST driver version for 92.0.4515\n",
      "There is no [win32] chromedriver for browser 92.0.4515 in cache\n",
      "Get LATEST driver version for 92.0.4515\n",
      "Trying to download new driver from https://chromedriver.storage.googleapis.com/92.0.4515.107/chromedriver_win32.zip\n",
      "Driver has been saved in cache [C:\\Users\\Sam\\.wdm\\drivers\\chromedriver\\win32\\92.0.4515.107]\n"
     ]
    },
    {
     "output_type": "stream",
     "name": "stdout",
     "text": [
      "Common Questions about InSight's 'Mole'\n",
      "The following Q&As with members of the team answer some of the most common questions about the burrowing device, part of a science instrument called the Heat Flow and Physical Properties Package (HP3).\n"
     ]
    }
   ],
   "metadata": {}
  },
  {
   "cell_type": "code",
   "execution_count": 3,
   "source": [
    "## MARS SPACE IMAGES\r\n",
    "\r\n",
    "# Set up Splinter\r\n",
    "executable_path = {'executable_path': ChromeDriverManager().install()}\r\n",
    "browser = Browser('chrome', **executable_path, headless=False)\r\n",
    "\r\n",
    "# Visit site\r\n",
    "url = \"https://spaceimages-mars.com/\"\r\n",
    "browser.visit(url)\r\n",
    "time.sleep(1)\r\n",
    "\r\n",
    "# Scrape page into Soup\r\n",
    "html = browser.html\r\n",
    "soup = bs(html, \"html.parser\")\r\n",
    "\r\n",
    "\r\n",
    "#find mars image\r\n",
    "url_ext = soup.find('img', class_='headerimage fade-in')['src']\r\n",
    "featured_image_url = \"https://spaceimages-mars.com/\" + url_ext \r\n",
    "\r\n",
    "print(featured_image_url)\r\n",
    "\r\n",
    "\r\n",
    "# Quite the browser after scraping\r\n",
    "browser.quit()"
   ],
   "outputs": [
    {
     "output_type": "stream",
     "name": "stderr",
     "text": [
      "\n",
      "\n",
      "====== WebDriver manager ======\n",
      "Current google-chrome version is 92.0.4515\n",
      "Get LATEST driver version for 92.0.4515\n",
      "Driver [C:\\Users\\Sam\\.wdm\\drivers\\chromedriver\\win32\\92.0.4515.107\\chromedriver.exe] found in cache\n"
     ]
    },
    {
     "output_type": "stream",
     "name": "stdout",
     "text": [
      "https://spaceimages-mars.com/image/featured/mars2.jpg\n"
     ]
    }
   ],
   "metadata": {}
  },
  {
   "cell_type": "code",
   "execution_count": 8,
   "source": [
    "##MARS FACTS\r\n",
    "\r\n",
    "\r\n",
    "table_list = pd.read_html(\"https://galaxyfacts-mars.com/\")\r\n",
    "comparison_table = table_list[0]\r\n",
    "comparison_table_html = comparison_table.to_html()"
   ],
   "outputs": [],
   "metadata": {}
  },
  {
   "cell_type": "code",
   "execution_count": 13,
   "source": [
    "## HEMISPHERES\r\n",
    "\r\n",
    "# Set up Splinter\r\n",
    "executable_path = {'executable_path': ChromeDriverManager().install()}\r\n",
    "browser = Browser('chrome', **executable_path, headless=False)\r\n",
    "\r\n",
    "# Visit site\r\n",
    "url = \"https://marshemispheres.com/\"\r\n",
    "browser.visit(url)\r\n",
    "time.sleep(1)\r\n",
    "\r\n",
    "#find images and urls\r\n",
    "hemisphere_image_urls = []\r\n",
    "\r\n",
    "for i in range(0, 4):\r\n",
    "    # Scrape page into Soup\r\n",
    "    html = browser.html\r\n",
    "    soup = bs(html, \"html.parser\")\r\n",
    "\r\n",
    "    link_list = browser.links.find_by_partial_text('Hemisphere Enhanced')\r\n",
    "    link_list[i].click()\r\n",
    "\r\n",
    "    #redefine html\r\n",
    "    html = browser.html\r\n",
    "    soup = bs(html, \"html.parser\")\r\n",
    "\r\n",
    "    title = soup.find('h2', class_='title').text\r\n",
    "    img = soup.find('img', class_='wide-image')['src']\r\n",
    "    browser.links.find_by_partial_text('Back').click()\r\n",
    "\r\n",
    "    hemisphere_image_urls.append({\"title\": title, \"img_url\": \"https://marshemispheres.com/\" + img})\r\n",
    "\r\n",
    "# Quite the browser after scraping\r\n",
    "browser.quit()"
   ],
   "outputs": [
    {
     "output_type": "stream",
     "name": "stderr",
     "text": [
      "\n",
      "\n",
      "====== WebDriver manager ======\n",
      "Current google-chrome version is 92.0.4515\n",
      "Get LATEST driver version for 92.0.4515\n",
      "Driver [C:\\Users\\Sam\\.wdm\\drivers\\chromedriver\\win32\\92.0.4515.107\\chromedriver.exe] found in cache\n"
     ]
    },
    {
     "output_type": "stream",
     "name": "stdout",
     "text": [
      "Cerberus Hemisphere Enhanced\n",
      "Schiaparelli Hemisphere Enhanced\n",
      "Syrtis Major Hemisphere Enhanced\n",
      "Valles Marineris Hemisphere Enhanced\n"
     ]
    }
   ],
   "metadata": {}
  }
 ],
 "metadata": {
  "orig_nbformat": 4,
  "language_info": {
   "name": "python",
   "version": "3.6.10",
   "mimetype": "text/x-python",
   "codemirror_mode": {
    "name": "ipython",
    "version": 3
   },
   "pygments_lexer": "ipython3",
   "nbconvert_exporter": "python",
   "file_extension": ".py"
  },
  "kernelspec": {
   "name": "python3",
   "display_name": "Python 3.6.10 64-bit ('PythonData': conda)"
  },
  "interpreter": {
   "hash": "ec74549fe6943598ad391168db2b79c223dd398876bde91387de495bd9ded36a"
  }
 },
 "nbformat": 4,
 "nbformat_minor": 2
}